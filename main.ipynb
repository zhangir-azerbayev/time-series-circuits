{
 "cells": [
  {
   "cell_type": "markdown",
   "id": "ff7492b9",
   "metadata": {},
   "source": [
    "# Deep Time Series Interpretability "
   ]
  },
  {
   "cell_type": "code",
   "execution_count": 1,
   "id": "fc74ce54",
   "metadata": {},
   "outputs": [],
   "source": [
    "import numpy as np\n",
    "import torch\n",
    "import matplotlib.pyplot as plt\n",
    "import torch.nn.functional as F\n",
    "import math"
   ]
  },
  {
   "cell_type": "markdown",
   "id": "d791ba57",
   "metadata": {},
   "source": [
    "## Causal Convolution Layer"
   ]
  },
  {
   "cell_type": "code",
   "execution_count": 2,
   "id": "a2eb166c",
   "metadata": {},
   "outputs": [],
   "source": [
    "def scaled_dot_product(q, k, v, mask=None):\n",
    "    d_k = q.size()[-1]\n",
    "    attn_logits = torch.matmul(q, k.transpose(-2, -1))\n",
    "    attn_logits = attn_logits / math.sqrt(d_k)\n",
    "    if mask is not None:\n",
    "        attn_logits = attn_logits.masked_fill(mask == 0, -9e15)\n",
    "    attention = F.softmax(attn_logits, dim=-1)\n",
    "    values = torch.matmul(attention, v)\n",
    "    return values, attention"
   ]
  },
  {
   "cell_type": "code",
   "execution_count": 3,
   "id": "baac1082",
   "metadata": {},
   "outputs": [],
   "source": [
    "class CausalConv1d(torch.nn.Conv1d):\n",
    "    def __init__(self,\n",
    "                 out_dim,\n",
    "                 kernel_size,\n",
    "                 bias=True):\n",
    "\n",
    "        super(CausalConv1d, self).__init__(\n",
    "            in_channels=1,\n",
    "            out_channels=out_dim,\n",
    "            kernel_size=kernel_size,\n",
    "            stride=1,\n",
    "            padding=0,\n",
    "            dilation=1,\n",
    "            groups=1,\n",
    "            bias=bias)\n",
    "        \n",
    "        self.__padding = kernel_size - 1\n",
    "        \n",
    "    def forward(self, input):\n",
    "        padded = F.pad(input.unsqueeze(1), (self.__padding, 0))\n",
    "        return torch.tanh(super(CausalConv1d, self).forward(padded)).permute(0, 2, 1)"
   ]
  },
  {
   "cell_type": "code",
   "execution_count": 4,
   "id": "40cfc86c",
   "metadata": {},
   "outputs": [
    {
     "name": "stdout",
     "output_type": "stream",
     "text": [
      "torch.Size([5, 12, 2])\n"
     ]
    }
   ],
   "source": [
    "ins = torch.rand((5, 12))\n",
    "\n",
    "layer = CausalConv1d(2, 5)\n",
    "\n",
    "print(layer(ins).shape)"
   ]
  },
  {
   "cell_type": "code",
   "execution_count": 5,
   "id": "6bbcd06e",
   "metadata": {},
   "outputs": [],
   "source": [
    "class ConvMultiHeadAttention(torch.nn.Module): \n",
    "    def __init__(self, \n",
    "                 d_in,\n",
    "                 d_model, \n",
    "                 num_heads,\n",
    "                 dropout=0.1, \n",
    "                 ): \n",
    "        super(ConvMultiHeadAttention, self).__init__()\n",
    "        assert d_model % num_heads == 0 \n",
    "        self.d_in = d_in\n",
    "        self.d_model = d_model \n",
    "        self.num_heads = num_heads \n",
    "        self.head_dim = d_model // num_heads\n",
    "        \n",
    "        self.positional_embedding = torch.nn.Embedding(d_in, d_model) \n",
    "        \n",
    "        self.conv = CausalConv1d(d_model, 9) \n",
    "        \n",
    "        self.qkv_proj = torch.nn.Linear(d_model, 3*d_model)\n",
    "    \n",
    "    def forward(self, x, mask): \n",
    "        batch_size, seq_length = x.size()\n",
    "        \n",
    "        pos = self.positional_embedding(torch.arange(seq_length)) #[seqlen, dims]\n",
    "                \n",
    "        x_conv = self.conv(x) #[batch, seqlen, dims]\n",
    "        \n",
    "        input_embed = x_conv + pos #[batch, seqlen, dims]\n",
    "        \n",
    "        qkv = self.qkv_proj(input_embed) \n",
    "        qkv = qkv.reshape(batch_size, seq_length, self.num_heads, 3*self.head_dim)\n",
    "        qkv = qkv.permute(0, 2, 1, 3) # [Batch, Head, SeqLen, Dims]\n",
    "        q, k, v = qkv.chunk(3, dim=-1)\n",
    "        \n",
    "        values, _ = scaled_dot_product(q, k, v, mask=mask)\n",
    "        values = values.permute(0, 2, 1, 3) #(batch, seqlen, head, dims)\n",
    "        values = values.reshape(batch_size, seq_length, self.d_model)\n",
    "        \n",
    "        return values \n",
    "    \n",
    "    def greedy_decode(self, x, t0): \n",
    "        mask = torch.cat((torch.ones((x.shape[0], 8, x.shape[1], x.shape[1])), \n",
    "                         torch.zeros((x.shape[0], 8, x.shape[1], x.shape[1))))\n",
    "        for i in range(t0, self.d_in-1): \n",
    "            out = self.forward()\n",
    "        "
   ]
  },
  {
   "cell_type": "code",
   "execution_count": 6,
   "id": "b7cf2dfc",
   "metadata": {},
   "outputs": [
    {
     "name": "stdout",
     "output_type": "stream",
     "text": [
      "torch.Size([3, 6, 64])\n"
     ]
    }
   ],
   "source": [
    "ins = torch.rand((3, 6))\n",
    "mask = torch.ones((3, 4, 6, 6))\n",
    "\n",
    "layer = ConvMultiHeadAttention(6, 64, 4)\n",
    "\n",
    "print(layer(ins, mask).shape)"
   ]
  },
  {
   "cell_type": "markdown",
   "id": "154c3d4f",
   "metadata": {},
   "source": [
    "## The Transformer"
   ]
  },
  {
   "cell_type": "code",
   "execution_count": 9,
   "id": "f05ab172",
   "metadata": {},
   "outputs": [],
   "source": [
    "class TimeFormer(torch.nn.Module): \n",
    "    def __init__(self, \n",
    "                 d_in, \n",
    "                 d_model, \n",
    "                 num_heads, \n",
    "                 dropout=0.1): \n",
    "        super(TimeFormer, self).__init__()\n",
    "        \n",
    "        \n",
    "        self.attention = ConvMultiHeadAttention(d_in, d_model, num_heads, dropout)\n",
    "        \n",
    "        self.norm1 = torch.nn.LayerNorm(d_model)\n",
    "        \n",
    "        self.mlp = torch.nn.Sequential(torch.nn.Linear(d_model, d_model), \n",
    "            torch.nn.Dropout(dropout), \n",
    "            torch.nn.GELU(), \n",
    "            torch.nn.Linear(d_model, d_model),\n",
    "            torch.nn.Dropout(dropout)\n",
    "            )\n",
    "            \n",
    "        self.norm2 = torch.nn.LayerNorm(d_model)\n",
    "            \n",
    "        \n",
    "        self.last_layer = torch.nn.Linear(d_model, 1)\n",
    "    \n",
    "    def forward(self, x, mask): \n",
    "        attention_out = self.attention(x, mask).sum(axis=1)\n",
    "        \n",
    "        before_mlp = self.norm1(attention_out)\n",
    "        \n",
    "        after_mlp = self.mlp(before_mlp)\n",
    "        \n",
    "        hidden_state = self.norm2(torch.nn.GELU()(before_mlp + after_mlp))\n",
    "        \n",
    "        out = self.last_layer(hidden_state)\n",
    "        \n",
    "        return out"
   ]
  },
  {
   "cell_type": "code",
   "execution_count": 10,
   "id": "0d3e3dea",
   "metadata": {},
   "outputs": [
    {
     "data": {
      "text/plain": [
       "tensor([[-0.0723],\n",
       "        [-0.1504],\n",
       "        [-0.2453]], grad_fn=<AddmmBackward0>)"
      ]
     },
     "execution_count": 10,
     "metadata": {},
     "output_type": "execute_result"
    }
   ],
   "source": [
    "ins = torch.rand((3, 6))\n",
    "mask = torch.ones((3, 4, 6, 6))\n",
    "\n",
    "layer = TimeFormer(6, 64, 4)\n",
    "layer(ins, mask)"
   ]
  }
 ],
 "metadata": {
  "kernelspec": {
   "display_name": "Python 3 (ipykernel)",
   "language": "python",
   "name": "python3"
  },
  "language_info": {
   "codemirror_mode": {
    "name": "ipython",
    "version": 3
   },
   "file_extension": ".py",
   "mimetype": "text/x-python",
   "name": "python",
   "nbconvert_exporter": "python",
   "pygments_lexer": "ipython3",
   "version": "3.9.7"
  }
 },
 "nbformat": 4,
 "nbformat_minor": 5
}
