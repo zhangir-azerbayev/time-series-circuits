{
 "cells": [
  {
   "cell_type": "markdown",
   "id": "ff7492b9",
   "metadata": {},
   "source": [
    "# Transformer Models for Crypto Forecasting"
   ]
  },
  {
   "cell_type": "code",
   "execution_count": 1,
   "id": "fc74ce54",
   "metadata": {},
   "outputs": [],
   "source": [
    "import numpy as np\n",
    "import torch\n",
    "import matplotlib.pyplot as plt\n",
    "import torch.nn.functional as F\n",
    "import torch.nn as nn \n",
    "from torch.utils.data import TensorDataset, DataLoader\n",
    "from torch.optim import AdamW\n",
    "import math\n",
    "from tqdm import tqdm"
   ]
  },
  {
   "cell_type": "markdown",
   "id": "ed32a81e",
   "metadata": {},
   "source": [
    "## The Model"
   ]
  },
  {
   "cell_type": "markdown",
   "id": "d791ba57",
   "metadata": {},
   "source": [
    "### Causal Convolution Layer"
   ]
  },
  {
   "cell_type": "code",
   "execution_count": 2,
   "id": "baac1082",
   "metadata": {},
   "outputs": [],
   "source": [
    "class CausalConv1d(torch.nn.Conv1d):\n",
    "    def __init__(self,\n",
    "                 embed_dim,\n",
    "                 kernel_size,\n",
    "                 bias=True):\n",
    "\n",
    "        super(CausalConv1d, self).__init__(\n",
    "            in_channels=1,\n",
    "            out_channels=embed_dim,\n",
    "            kernel_size=kernel_size,\n",
    "            stride=1,\n",
    "            padding=0,\n",
    "            dilation=1,\n",
    "            groups=1,\n",
    "            bias=bias)\n",
    "        \n",
    "        self.__padding = kernel_size - 1\n",
    "    \n",
    "    \"\"\"\n",
    "    - Output has indices [batch, seqlen, features]\n",
    "    \"\"\"\n",
    "    def forward(self, input):\n",
    "        padded = F.pad(input.unsqueeze(1), (self.__padding, 0))\n",
    "        return torch.tanh(super(CausalConv1d, self).forward(padded)).permute(0, 2, 1)"
   ]
  },
  {
   "cell_type": "code",
   "execution_count": 3,
   "id": "40cfc86c",
   "metadata": {},
   "outputs": [
    {
     "name": "stdout",
     "output_type": "stream",
     "text": [
      "torch.Size([5, 12, 3])\n"
     ]
    }
   ],
   "source": [
    "ins = torch.ones((5, 12))\n",
    "\n",
    "layer = CausalConv1d(3, 5)\n",
    "\n",
    "print(layer(ins).shape) #[batch, seqlen, feature]"
   ]
  },
  {
   "cell_type": "markdown",
   "id": "154c3d4f",
   "metadata": {},
   "source": [
    "### The Transformer"
   ]
  },
  {
   "cell_type": "code",
   "execution_count": 4,
   "id": "f05ab172",
   "metadata": {},
   "outputs": [],
   "source": [
    "class TimeFormer(torch.nn.Module): \n",
    "    def __init__(self, \n",
    "                 d_in, \n",
    "                 d_model, \n",
    "                 max_seqlen,\n",
    "                 num_heads, \n",
    "                 dropout=0.1): \n",
    "        super(TimeFormer, self).__init__()\n",
    "        \n",
    "        self.d_in = d_in\n",
    "        self.num_heads = num_heads\n",
    "        \n",
    "        self.conv_embed = CausalConv1d(embed_dim=d_in, kernel_size=9)\n",
    "        self.positional_embed = nn.Embedding(max_seqlen, d_in)\n",
    "        \n",
    "        encoder_layer = nn.TransformerEncoderLayer(d_in, \n",
    "                                                        nhead=8, \n",
    "                                                        dim_feedforward=d_model, \n",
    "                                                        activation='gelu', \n",
    "                                                        batch_first=True\n",
    "                                                       )\n",
    "        norm1 = nn.LayerNorm(d_in)\n",
    "        self.decoder = nn.TransformerEncoder(encoder_layer, num_layers=2, norm=norm1)\n",
    "                \n",
    "        self.dense = nn.Linear(d_in, 1)\n",
    "        \n",
    "        \n",
    "        \n",
    "    \"\"\"\n",
    "    - x has indices [batch, seqlen]\n",
    "    \"\"\"\n",
    "    def forward(self, x): \n",
    "        batch_size, seqlen = x.size()\n",
    "        \n",
    "        mask = torch.tril(torch.ones((seqlen, seqlen)), \n",
    "                          diagonal=1)\n",
    "        \n",
    "        conv_embedding = self.conv_embed(x)\n",
    "        pos_embedding = self.positional_embed(torch.arange(seqlen))\n",
    "        \n",
    "        input_embedding = conv_embedding + pos_embedding \n",
    "        \n",
    "        attn_out = self.decoder(input_embedding, mask)\n",
    "                \n",
    "        outputs = self.dense(attn_out)\n",
    "        \n",
    "        return torch.squeeze(outputs, dim=2)\n",
    "    \n",
    "    \"\"\"\n",
    "    Greedy decoding\n",
    "    \n",
    "    - x has indices [batch, seqlen]\n",
    "    \"\"\"\n",
    "    def batch_generate(self, x, new_time_steps):         \n",
    "        seq = x \n",
    "        \n",
    "        for _ in range(new_time_steps): \n",
    "            outs = self.forward(seq)\n",
    "            \n",
    "            seq = torch.cat((seq, outs[:, -1:]), dim=1)\n",
    "        \n",
    "        return seq \n",
    "            \n",
    "            "
   ]
  },
  {
   "cell_type": "markdown",
   "id": "b2c28a12",
   "metadata": {},
   "source": [
    "## Making sure there are no bugs..."
   ]
  },
  {
   "cell_type": "code",
   "execution_count": 5,
   "id": "0d3e3dea",
   "metadata": {},
   "outputs": [
    {
     "name": "stdout",
     "output_type": "stream",
     "text": [
      "out shape:  torch.Size([3, 10])\n",
      "tensor([[ 0.6089, -0.0602,  0.1551,  0.7145, -1.0586,  0.2078, -0.0894, -0.3361,\n",
      "          0.6570, -1.0839],\n",
      "        [ 0.6701,  0.0822,  0.4183,  0.8206, -1.1137,  0.1359, -0.2136, -0.5074,\n",
      "          0.5837, -1.2183],\n",
      "        [ 0.6106, -0.1301,  0.3317,  0.8465, -1.0684,  0.1058, -0.1892, -0.6451,\n",
      "          0.7007, -1.1216]], grad_fn=<SqueezeBackward1>)\n"
     ]
    }
   ],
   "source": [
    "ins = torch.rand((3, 10))\n",
    "\n",
    "model = TimeFormer(d_in = 16, \n",
    "                   d_model = 32, \n",
    "                   max_seqlen = 256, \n",
    "                   num_heads = 4, \n",
    "                  )\n",
    "\n",
    "out = model.forward(ins)\n",
    "print(\"out shape: \", out.shape)\n",
    "print(out)"
   ]
  },
  {
   "cell_type": "code",
   "execution_count": 6,
   "id": "de3a3023",
   "metadata": {},
   "outputs": [
    {
     "data": {
      "text/plain": [
       "tensor([[ 0.2335,  0.2205,  0.4906,  0.5486,  0.6387,  0.4194,  0.7859,  0.8274,\n",
       "          0.8982,  0.2220, -0.6529, -0.6346, -0.7720, -0.8705, -0.4201],\n",
       "        [ 0.2869,  0.8943,  0.5461,  0.9203,  0.4227,  0.7614,  0.4048,  0.5014,\n",
       "          0.3413,  0.3829, -0.8565, -0.6668, -0.3645, -0.9641, -0.4325],\n",
       "        [ 0.3246,  0.0993,  0.1504,  0.8909,  0.5992,  0.6593,  0.2948,  0.7414,\n",
       "          0.2566,  0.2540, -0.1729, -0.6319, -0.5337, -0.9636, -0.2657]],\n",
       "       grad_fn=<CatBackward0>)"
      ]
     },
     "execution_count": 6,
     "metadata": {},
     "output_type": "execute_result"
    }
   ],
   "source": [
    "model = TimeFormer(d_in = 16, \n",
    "                   d_model = 32, \n",
    "                   max_seqlen = 256, \n",
    "                   num_heads = 4, \n",
    "                  )\n",
    "ins = torch.rand((3, 10))\n",
    "\n",
    "model.batch_generate(ins, 5)"
   ]
  },
  {
   "cell_type": "markdown",
   "id": "f24839f3",
   "metadata": {},
   "source": [
    "## Data Preprocessing"
   ]
  },
  {
   "cell_type": "markdown",
   "id": "fcb14ab1",
   "metadata": {},
   "source": [
    "# Training on synthetic data\n",
    "To make sure there are no bugs in our code, we'll train our TimeFormer model on a very simple synthetic dataset consisting of two time series: a sine wave and a quadratic function"
   ]
  },
  {
   "cell_type": "code",
   "execution_count": 7,
   "id": "fb2fd0c6",
   "metadata": {},
   "outputs": [
    {
     "name": "stdout",
     "output_type": "stream",
     "text": [
      "tensor([[ 0.0000e+00,  9.8400e-02,  1.9585e-01,  2.9139e-01,  3.8411e-01,\n",
      "          4.7309e-01,  5.5749e-01,  6.3647e-01,  7.0928e-01,  7.7520e-01,\n",
      "          8.3360e-01,  8.8391e-01,  9.2564e-01,  9.5838e-01,  9.8182e-01,\n",
      "          9.9573e-01,  9.9998e-01,  9.9452e-01,  9.7941e-01,  9.5479e-01,\n",
      "          9.2091e-01,  8.7808e-01,  8.2673e-01,  7.6736e-01,  7.0054e-01,\n",
      "          6.2692e-01,  5.4722e-01,  4.6220e-01,  3.7270e-01,  2.7958e-01,\n",
      "          1.8375e-01,  8.6133e-02, -1.2320e-02, -1.1065e-01, -2.0791e-01,\n",
      "         -3.0315e-01, -3.9545e-01, -4.8391e-01, -5.6767e-01, -6.4593e-01,\n",
      "         -7.1791e-01, -7.8293e-01, -8.4034e-01, -8.8960e-01, -9.3023e-01,\n",
      "         -9.6183e-01, -9.8409e-01, -9.9680e-01, -9.9983e-01, -9.9316e-01,\n",
      "         -9.7685e-01, -9.5106e-01, -9.1603e-01, -8.7212e-01, -8.1974e-01,\n",
      "         -7.5940e-01, -6.9170e-01, -6.1728e-01, -5.3687e-01, -4.5124e-01,\n",
      "         -3.6124e-01, -2.6773e-01, -1.7163e-01, -7.3852e-02,  2.4638e-02,\n",
      "          1.2289e-01,  2.1995e-01,  3.1487e-01,  4.0674e-01,  4.9466e-01,\n",
      "          5.7777e-01,  6.5528e-01,  7.2643e-01,  7.9053e-01,  8.4696e-01,\n",
      "          8.9516e-01,  9.3468e-01,  9.6512e-01,  9.8620e-01,  9.9771e-01,\n",
      "          9.9953e-01,  9.9164e-01,  9.7414e-01,  9.4718e-01,  9.1102e-01,\n",
      "          8.6603e-01,  8.1262e-01,  7.5133e-01,  6.8275e-01,  6.0754e-01,\n",
      "          5.2643e-01,  4.4022e-01,  3.4973e-01,  2.5584e-01,  1.5948e-01,\n",
      "          6.1561e-02, -3.6952e-02, -1.3511e-01, -2.3195e-01, -3.2654e-01,\n",
      "         -4.1796e-01, -5.0533e-01, -5.8779e-01, -6.6454e-01, -7.3485e-01,\n",
      "         -7.9802e-01, -8.5344e-01, -9.0059e-01, -9.3899e-01, -9.6828e-01,\n",
      "         -9.8817e-01, -9.9846e-01, -9.9907e-01, -9.8998e-01, -9.7128e-01,\n",
      "         -9.4315e-01, -9.0587e-01, -8.5980e-01, -8.0538e-01, -7.4314e-01,\n",
      "         -6.7369e-01, -5.9771e-01, -5.1592e-01, -4.2912e-01, -3.3816e-01,\n",
      "         -2.4391e-01, -1.4730e-01, -4.9259e-02,  4.9260e-02,  1.4730e-01,\n",
      "          2.4391e-01,  3.3816e-01,  4.2912e-01,  5.1592e-01,  5.9771e-01,\n",
      "          6.7370e-01,  7.4315e-01,  8.0538e-01,  8.5980e-01,  9.0587e-01,\n",
      "          9.4315e-01,  9.7128e-01,  9.8998e-01,  9.9907e-01,  9.9846e-01,\n",
      "          9.8817e-01,  9.6828e-01,  9.3899e-01,  9.0059e-01,  8.5344e-01,\n",
      "          7.9802e-01,  7.3484e-01,  6.6454e-01,  5.8779e-01,  5.0533e-01,\n",
      "          4.1796e-01,  3.2654e-01,  2.3195e-01,  1.3511e-01,  3.6952e-02,\n",
      "         -6.1561e-02, -1.5948e-01, -2.5584e-01, -3.4973e-01, -4.4022e-01,\n",
      "         -5.2643e-01, -6.0754e-01, -6.8275e-01, -7.5133e-01, -8.1262e-01,\n",
      "         -8.6602e-01, -9.1102e-01, -9.4718e-01, -9.7414e-01, -9.9164e-01,\n",
      "         -9.9953e-01, -9.9771e-01, -9.8620e-01, -9.6512e-01, -9.3468e-01,\n",
      "         -8.9516e-01, -8.4696e-01, -7.9053e-01, -7.2643e-01, -6.5528e-01,\n",
      "         -5.7777e-01, -4.9466e-01, -4.0674e-01, -3.1487e-01, -2.1994e-01,\n",
      "         -1.2289e-01, -2.4637e-02,  7.3852e-02,  1.7163e-01,  2.6773e-01,\n",
      "          3.6124e-01,  4.5124e-01,  5.3687e-01,  6.1728e-01,  6.9170e-01,\n",
      "          7.5941e-01,  8.1974e-01,  8.7212e-01,  9.1603e-01,  9.5106e-01,\n",
      "          9.7685e-01,  9.9316e-01,  9.9983e-01,  9.9680e-01,  9.8409e-01,\n",
      "          9.6183e-01,  9.3023e-01,  8.8960e-01,  8.4034e-01,  7.8293e-01,\n",
      "          7.1791e-01,  6.4593e-01,  5.6767e-01,  4.8391e-01,  3.9545e-01,\n",
      "          3.0315e-01,  2.0791e-01,  1.1065e-01,  1.2320e-02, -8.6133e-02,\n",
      "         -1.8375e-01, -2.7958e-01, -3.7270e-01, -4.6220e-01, -5.4722e-01,\n",
      "         -6.2692e-01, -7.0054e-01, -7.6736e-01, -8.2674e-01, -8.7808e-01,\n",
      "         -9.2091e-01, -9.5479e-01, -9.7941e-01, -9.9452e-01, -9.9998e-01,\n",
      "         -9.9573e-01, -9.8182e-01, -9.5838e-01, -9.2564e-01, -8.8391e-01,\n",
      "         -8.3360e-01, -7.7520e-01, -7.0928e-01, -6.3647e-01, -5.5749e-01,\n",
      "         -4.7309e-01, -3.8411e-01, -2.9139e-01, -1.9584e-01, -9.8400e-02,\n",
      "          6.9938e-07],\n",
      "        [ 1.4112e-01, -7.4270e-03, -1.5581e-01, -3.0074e-01, -4.3900e-01,\n",
      "         -5.6753e-01, -6.8348e-01, -7.8429e-01, -8.6770e-01, -9.3189e-01,\n",
      "         -9.7542e-01, -9.9732e-01, -9.9713e-01, -9.7482e-01, -9.3092e-01,\n",
      "         -8.6637e-01, -7.8263e-01, -6.8153e-01, -5.6533e-01, -4.3660e-01,\n",
      "         -2.9819e-01, -1.5317e-01, -4.7539e-03,  1.4377e-01,  2.8910e-01,\n",
      "          4.2802e-01,  5.5746e-01,  6.7454e-01,  7.7667e-01,  8.6158e-01,\n",
      "          9.2740e-01,  9.7266e-01,  9.9636e-01,  9.9797e-01,  9.7747e-01,\n",
      "          9.3529e-01,  8.7239e-01,  7.9015e-01,  6.9039e-01,  5.7533e-01,\n",
      "          4.4752e-01,  3.0979e-01,  1.6519e-01,  1.6934e-02, -1.3170e-01,\n",
      "         -2.7742e-01, -4.1698e-01, -5.4731e-01, -6.6550e-01, -7.6894e-01,\n",
      "         -8.5534e-01, -9.2278e-01, -9.6976e-01, -9.9525e-01, -9.9867e-01,\n",
      "         -9.7997e-01, -9.3954e-01, -8.7828e-01, -7.9756e-01, -6.9915e-01,\n",
      "         -5.8525e-01, -4.5838e-01, -3.2135e-01, -1.7719e-01, -2.9111e-02,\n",
      "          1.1962e-01,  2.6569e-01,  4.0588e-01,  5.3707e-01,  6.5636e-01,\n",
      "          7.6110e-01,  8.4896e-01,  9.1801e-01,  9.6671e-01,  9.9399e-01,\n",
      "          9.9923e-01,  9.8232e-01,  9.4364e-01,  8.8404e-01,  8.0484e-01,\n",
      "          7.0781e-01,  5.9509e-01,  4.6917e-01,  3.3286e-01,  1.8917e-01,\n",
      "          4.1285e-02, -1.0751e-01, -2.5393e-01, -3.9472e-01, -5.2676e-01,\n",
      "         -6.4712e-01, -7.5314e-01, -8.4246e-01, -9.1312e-01, -9.6353e-01,\n",
      "         -9.9258e-01, -9.9963e-01, -9.8453e-01, -9.4760e-01, -8.8967e-01,\n",
      "         -8.1201e-01, -7.1636e-01, -6.0483e-01, -4.7990e-01, -3.4432e-01,\n",
      "         -2.0112e-01, -5.3453e-02,  9.5398e-02,  2.4213e-01,  3.8350e-01,\n",
      "          5.1636e-01,  6.3779e-01,  7.4507e-01,  8.3584e-01,  9.0808e-01,\n",
      "          9.6020e-01,  9.9103e-01,  9.9989e-01,  9.8659e-01,  9.5142e-01,\n",
      "          8.9516e-01,  8.1906e-01,  7.2481e-01,  6.1449e-01,  4.9055e-01,\n",
      "          3.5573e-01,  2.1303e-01,  6.5612e-02, -8.3264e-02, -2.3029e-01,\n",
      "         -3.7222e-01, -5.0590e-01, -6.2836e-01, -7.3689e-01, -8.2909e-01,\n",
      "         -9.0291e-01, -9.5672e-01, -9.8932e-01, -1.0000e+00, -9.8850e-01,\n",
      "         -9.5510e-01, -9.0053e-01, -8.2599e-01, -7.3315e-01, -6.2405e-01,\n",
      "         -5.0113e-01, -3.6709e-01, -2.2492e-01, -7.7762e-02,  7.1119e-02,\n",
      "          2.1842e-01,  3.6089e-01,  4.9535e-01,  6.1883e-01,  7.2860e-01,\n",
      "          8.2222e-01,  8.9761e-01,  9.5311e-01,  9.8747e-01,  9.9996e-01,\n",
      "          9.9027e-01,  9.5864e-01,  9.0576e-01,  8.3280e-01,  7.4138e-01,\n",
      "          6.3352e-01,  5.1163e-01,  3.7839e-01,  2.3677e-01,  8.9900e-02,\n",
      "         -5.8964e-02, -2.0652e-01, -3.4950e-01, -4.8473e-01, -6.0922e-01,\n",
      "         -7.2020e-01, -8.1522e-01, -8.9217e-01, -9.4935e-01, -9.8548e-01,\n",
      "         -9.9977e-01, -9.9189e-01, -9.6203e-01, -9.1085e-01, -8.3948e-01,\n",
      "         -7.4950e-01, -6.4290e-01, -5.2206e-01, -3.8964e-01, -2.4859e-01,\n",
      "         -1.0202e-01,  4.6800e-02,  1.9459e-01,  3.3806e-01,  4.7404e-01,\n",
      "          5.9952e-01,  7.1170e-01,  8.0811e-01,  8.8661e-01,  9.4545e-01,\n",
      "          9.8334e-01,  9.9943e-01,  9.9337e-01,  9.6529e-01,  9.1581e-01,\n",
      "          8.4603e-01,  7.5750e-01,  6.5218e-01,  5.3241e-01,  4.0083e-01,\n",
      "          2.6037e-01,  1.1413e-01, -3.4629e-02, -1.8263e-01, -3.2658e-01,\n",
      "         -4.6328e-01, -5.8972e-01, -7.0309e-01, -8.0088e-01, -8.8091e-01,\n",
      "         -9.4141e-01, -9.8105e-01, -9.9894e-01, -9.9469e-01, -9.6840e-01,\n",
      "         -9.2063e-01, -8.5247e-01, -7.6540e-01, -6.6137e-01, -5.4268e-01,\n",
      "         -4.1196e-01, -2.7211e-01, -1.2623e-01,  2.2455e-02,  1.7064e-01,\n",
      "          3.1504e-01,  4.5245e-01,  5.7984e-01,  6.9438e-01,  7.9352e-01,\n",
      "          8.7508e-01,  9.3724e-01,  9.7862e-01,  9.9831e-01,  9.9587e-01,\n",
      "          9.7136e-01,  9.2532e-01,  8.5877e-01,  7.7318e-01,  6.7045e-01,\n",
      "          5.5287e-01,  4.2303e-01,  2.8381e-01,  1.3830e-01, -1.0278e-02,\n",
      "         -1.5862e-01],\n",
      "        [ 0.0000e+00,  2.4606e-04,  9.8424e-04,  2.2145e-03,  3.9369e-03,\n",
      "          6.1515e-03,  8.8581e-03,  1.2057e-02,  1.5748e-02,  1.9931e-02,\n",
      "          2.4606e-02,  2.9773e-02,  3.5433e-02,  4.1584e-02,  4.8228e-02,\n",
      "          5.5363e-02,  6.2991e-02,  7.1111e-02,  7.9723e-02,  8.8827e-02,\n",
      "          9.8424e-02,  1.0851e-01,  1.1909e-01,  1.3017e-01,  1.4173e-01,\n",
      "          1.5379e-01,  1.6634e-01,  1.7938e-01,  1.9291e-01,  2.0694e-01,\n",
      "          2.2145e-01,  2.3646e-01,  2.5196e-01,  2.6796e-01,  2.8444e-01,\n",
      "          3.0142e-01,  3.1889e-01,  3.3686e-01,  3.5531e-01,  3.7426e-01,\n",
      "          3.9369e-01,  4.1363e-01,  4.3405e-01,  4.5496e-01,  4.7637e-01,\n",
      "          4.9827e-01,  5.2066e-01,  5.4354e-01,  5.6692e-01,  5.9079e-01,\n",
      "          6.1515e-01,  6.4000e-01,  6.6534e-01,  6.9118e-01,  7.1751e-01,\n",
      "          7.4433e-01,  7.7164e-01,  7.9945e-01,  8.2774e-01,  8.5653e-01,\n",
      "          8.8581e-01,  9.1559e-01,  9.4585e-01,  9.7661e-01,  1.0079e+00,\n",
      "          1.0396e+00,  1.0718e+00,  1.1046e+00,  1.1378e+00,  1.1715e+00,\n",
      "          1.2057e+00,  1.2404e+00,  1.2756e+00,  1.3112e+00,  1.3474e+00,\n",
      "          1.3841e+00,  1.4212e+00,  1.4589e+00,  1.4970e+00,  1.5357e+00,\n",
      "          1.5748e+00,  1.6144e+00,  1.6545e+00,  1.6951e+00,  1.7362e+00,\n",
      "          1.7778e+00,  1.8199e+00,  1.8624e+00,  1.9055e+00,  1.9490e+00,\n",
      "          1.9931e+00,  2.0376e+00,  2.0826e+00,  2.1282e+00,  2.1742e+00,\n",
      "          2.2207e+00,  2.2677e+00,  2.3152e+00,  2.3632e+00,  2.4116e+00,\n",
      "          2.4606e+00,  2.5101e+00,  2.5600e+00,  2.6104e+00,  2.6614e+00,\n",
      "          2.7128e+00,  2.7647e+00,  2.8171e+00,  2.8700e+00,  2.9234e+00,\n",
      "          2.9773e+00,  3.0317e+00,  3.0866e+00,  3.1419e+00,  3.1978e+00,\n",
      "          3.2541e+00,  3.3110e+00,  3.3683e+00,  3.4261e+00,  3.4844e+00,\n",
      "          3.5433e+00,  3.6026e+00,  3.6623e+00,  3.7226e+00,  3.7834e+00,\n",
      "          3.8447e+00,  3.9064e+00,  3.9687e+00,  4.0314e+00,  4.0947e+00,\n",
      "          4.1584e+00,  4.2226e+00,  4.2873e+00,  4.3525e+00,  4.4182e+00,\n",
      "          4.4844e+00,  4.5511e+00,  4.6183e+00,  4.6860e+00,  4.7541e+00,\n",
      "          4.8228e+00,  4.8919e+00,  4.9615e+00,  5.0317e+00,  5.1023e+00,\n",
      "          5.1734e+00,  5.2450e+00,  5.3171e+00,  5.3897e+00,  5.4628e+00,\n",
      "          5.5363e+00,  5.6104e+00,  5.6850e+00,  5.7600e+00,  5.8355e+00,\n",
      "          5.9116e+00,  5.9881e+00,  6.0651e+00,  6.1426e+00,  6.2206e+00,\n",
      "          6.2991e+00,  6.3781e+00,  6.4576e+00,  6.5375e+00,  6.6180e+00,\n",
      "          6.6990e+00,  6.7804e+00,  6.8623e+00,  6.9448e+00,  7.0277e+00,\n",
      "          7.1111e+00,  7.1950e+00,  7.2794e+00,  7.3643e+00,  7.4497e+00,\n",
      "          7.5356e+00,  7.6219e+00,  7.7088e+00,  7.7961e+00,  7.8840e+00,\n",
      "          7.9723e+00,  8.0611e+00,  8.1505e+00,  8.2403e+00,  8.3306e+00,\n",
      "          8.4214e+00,  8.5127e+00,  8.6044e+00,  8.6967e+00,  8.7895e+00,\n",
      "          8.8827e+00,  8.9765e+00,  9.0707e+00,  9.1655e+00,  9.2607e+00,\n",
      "          9.3564e+00,  9.4526e+00,  9.5493e+00,  9.6465e+00,  9.7442e+00,\n",
      "          9.8424e+00,  9.9410e+00,  1.0040e+01,  1.0140e+01,  1.0240e+01,\n",
      "          1.0341e+01,  1.0442e+01,  1.0543e+01,  1.0646e+01,  1.0748e+01,\n",
      "          1.0851e+01,  1.0955e+01,  1.1059e+01,  1.1163e+01,  1.1269e+01,\n",
      "          1.1374e+01,  1.1480e+01,  1.1587e+01,  1.1694e+01,  1.1801e+01,\n",
      "          1.1909e+01,  1.2018e+01,  1.2127e+01,  1.2236e+01,  1.2346e+01,\n",
      "          1.2457e+01,  1.2568e+01,  1.2679e+01,  1.2791e+01,  1.2904e+01,\n",
      "          1.3017e+01,  1.3130e+01,  1.3244e+01,  1.3358e+01,  1.3473e+01,\n",
      "          1.3589e+01,  1.3705e+01,  1.3821e+01,  1.3938e+01,  1.4055e+01,\n",
      "          1.4173e+01,  1.4291e+01,  1.4410e+01,  1.4530e+01,  1.4649e+01,\n",
      "          1.4770e+01,  1.4891e+01,  1.5012e+01,  1.5134e+01,  1.5256e+01,\n",
      "          1.5379e+01,  1.5502e+01,  1.5626e+01,  1.5750e+01,  1.5875e+01,\n",
      "          1.6000e+01]])\n"
     ]
    }
   ],
   "source": [
    "sinewave = torch.sin(torch.linspace(0, 8*math.pi, 256))\n",
    "sinewave1 = torch.sin(2*torch.linspace(1, 20, 256)+1)\n",
    "quadratic = torch.linspace(0, 4, 256) ** 2\n",
    "\n",
    "tnsr = torch.stack((sinewave, sinewave1, quadratic))\n",
    "print(tnsr)\n",
    "miniset = TensorDataset(tnsr)"
   ]
  },
  {
   "cell_type": "markdown",
   "id": "7e5331f4",
   "metadata": {},
   "source": [
    "We use the AdamW optimizer and a straightforward MSE loss. "
   ]
  },
  {
   "cell_type": "code",
   "execution_count": 8,
   "id": "06158eaf",
   "metadata": {},
   "outputs": [],
   "source": [
    "minimodel = TimeFormer(d_in = 64, \n",
    "                   d_model = 256, \n",
    "                   max_seqlen = 256, \n",
    "                   num_heads = 4, \n",
    "                  )\n",
    "\n",
    "lr = 3e-4\n",
    "optimizer = AdamW(minimodel.parameters(), lr=lr)\n",
    "\n",
    "loss_fn = nn.MSELoss()"
   ]
  },
  {
   "cell_type": "code",
   "execution_count": 9,
   "id": "fb5159f2",
   "metadata": {},
   "outputs": [
    {
     "name": "stderr",
     "output_type": "stream",
     "text": [
      "100%|█████████████████████████████████████| 10000/10000 [06:30<00:00, 25.62it/s]\n"
     ]
    },
    {
     "data": {
      "text/plain": [
       "[<matplotlib.lines.Line2D at 0x7fcf74648370>]"
      ]
     },
     "execution_count": 9,
     "metadata": {},
     "output_type": "execute_result"
    },
    {
     "data": {
      "image/png": "[encoded data removed]",
      "text/plain": [
       "<Figure size 432x288 with 1 Axes>"
      ]
     },
     "metadata": {
      "needs_background": "light"
     },
     "output_type": "display_data"
    }
   ],
   "source": [
    "num_epochs = 10000\n",
    "\n",
    "miniloader = DataLoader(miniset, batch_size=2)\n",
    "\n",
    "log_losses = []\n",
    "for i in tqdm(range(num_epochs)): \n",
    "    for _, batch in enumerate(miniloader):\n",
    "        optimizer.zero_grad()\n",
    "        \n",
    "        batch = batch[0]\n",
    "        outs = minimodel.forward(batch)\n",
    "        \n",
    "        target = batch[:, 1:]\n",
    "        predictions = outs[:, :-1]\n",
    "        \n",
    "        loss = loss_fn(target, predictions)\n",
    "        \n",
    "        loss.backward()\n",
    "        optimizer.step()\n",
    "        log_losses.append(math.log(loss.item()))\n",
    "        \n",
    "plt.plot(log_losses)"
   ]
  },
  {
   "cell_type": "code",
   "execution_count": 10,
   "id": "ad012e15",
   "metadata": {},
   "outputs": [
    {
     "name": "stdout",
     "output_type": "stream",
     "text": [
      "tensor([[ 0.0000,  0.0984,  0.1958,  0.2914,  0.3841,  0.4731,  0.5575,  0.6365,\n",
      "          0.7093,  0.7752,  0.8336,  0.8839,  0.9256,  0.9584,  0.9818,  0.9957,\n",
      "          1.0000,  0.9945,  0.9794,  0.9548,  0.9209,  0.8781,  0.8267,  0.7674,\n",
      "          0.7005,  0.6269,  0.5472,  0.4622,  0.3727,  0.2796,  0.1837,  0.0861,\n",
      "         -0.0123, -0.1107, -0.2079, -0.3032, -0.3955, -0.4839, -0.5677, -0.6459,\n",
      "         -0.7179, -0.7829, -0.8403, -0.8896, -0.9302, -0.9618, -0.9841, -0.9968,\n",
      "         -0.9998, -0.9932, -0.9768, -0.9511, -0.9160, -0.8721, -0.8197, -0.7594,\n",
      "         -0.6917, -0.6173, -0.5369, -0.4512, -0.3612, -0.2677, -0.1716, -0.0739,\n",
      "          0.0246,  0.1229,  0.2199,  0.3149,  0.4067,  0.4947,  0.5778,  0.6553,\n",
      "          0.7264,  0.7905,  0.8470,  0.8952,  0.9347,  0.9651,  0.9862,  0.9977,\n",
      "          0.9995,  0.9916,  0.9741,  0.9472,  0.9110,  0.8660,  0.8126,  0.7513,\n",
      "          0.6827,  0.6075,  0.5264,  0.4402,  0.3497,  0.2558,  0.1595,  0.0616,\n",
      "         -0.0370, -0.1351, -0.2319, -0.3265, -0.4180, -0.5053, -0.5878, -0.6645,\n",
      "         -0.7348, -0.7980, -0.8534, -0.9006, -0.9390, -0.9683, -0.9882, -0.9985,\n",
      "         -0.9991, -0.9900, -0.9713, -0.9432, -0.9059, -0.8598, -0.8054, -0.7431,\n",
      "         -0.6737, -0.5977, -0.5159, -0.4291, -0.3382, -0.2439, -0.1473, -0.0493,\n",
      "          0.1083,  0.1914,  0.3102,  0.4312,  0.5721,  0.6341,  0.6308,  0.7486,\n",
      "          0.8282,  0.9040,  0.9210,  0.9801,  0.9459,  0.9286,  0.9906,  0.9550,\n",
      "          0.8748,  0.9136,  0.8068,  0.8306,  0.8160,  0.6722,  0.6031,  0.6075,\n",
      "          0.5207,  0.4094,  0.3050,  0.2986,  0.0730,  0.0219, -0.0197, -0.1138,\n",
      "         -0.2273, -0.2112, -0.3136, -0.3630, -0.4391, -0.5144, -0.5187, -0.5611,\n",
      "         -0.7197, -0.6719, -0.6758, -0.7469, -0.9021, -0.8813, -0.8936, -0.9162,\n",
      "         -0.8010, -0.8624, -0.8857, -0.8944, -0.8097, -0.7849, -0.7575, -0.7111,\n",
      "         -0.6884, -0.6320, -0.4615, -0.4340, -0.3463, -0.3008, -0.2199, -0.0233,\n",
      "         -0.0112,  0.0761,  0.1794,  0.2644,  0.3630,  0.3588,  0.5590,  0.5771,\n",
      "          0.6759,  0.7848,  0.8598,  0.8823,  0.8985,  1.0273,  1.0865,  0.9413,\n",
      "          1.0826,  1.0836,  0.9898,  1.0400,  1.0361,  1.0242,  0.9356,  0.8744,\n",
      "          0.8735,  0.7710,  0.7285,  0.6403,  0.6275,  0.5449,  0.4253,  0.4237,\n",
      "          0.3762,  0.3633,  0.4094,  0.3587,  0.3340,  0.3923,  0.7756,  0.8029,\n",
      "          1.2525,  1.1797,  1.3689,  1.3030,  1.3526,  1.5248,  1.5357,  1.5558,\n",
      "          1.5439,  1.3483,  1.3261,  1.2930,  1.2367,  1.0747,  0.7813,  0.6402,\n",
      "          0.4478,  0.0811, -0.0780, -0.1748, -0.3994, -0.5370, -0.5619, -0.6184]])\n"
     ]
    },
    {
     "data": {
      "image/png": "[encoded data removed]",
      "text/plain": [
       "<Figure size 432x288 with 1 Axes>"
      ]
     },
     "metadata": {
      "needs_background": "light"
     },
     "output_type": "display_data"
    }
   ],
   "source": [
    "test = sinewave[:128].unsqueeze(dim=0)\n",
    "\n",
    "with torch.no_grad(): \n",
    "    completion = minimodel.batch_generate(test, 128)\n",
    "\n",
    "print(completion)\n",
    "plt.plot(completion[0])\n",
    "plt.show()"
   ]
  }
 ],
 "metadata": {
  "kernelspec": {
   "display_name": "Python 3 (ipykernel)",
   "language": "python",
   "name": "python3"
  },
  "language_info": {
   "codemirror_mode": {
    "name": "ipython",
    "version": 3
   },
   "file_extension": ".py",
   "mimetype": "text/x-python",
   "name": "python",
   "nbconvert_exporter": "python",
   "pygments_lexer": "ipython3",
   "version": "3.9.7"
  }
 },
 "nbformat": 4,
 "nbformat_minor": 5
}
