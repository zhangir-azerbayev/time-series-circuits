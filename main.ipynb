{
 "cells": [
  {
   "cell_type": "markdown",
   "id": "ec9f242c",
   "metadata": {},
   "source": [
    "# Transformer Models for Crypto Forecasting"
   ]
  },
  {
   "cell_type": "markdown",
   "id": "0dee6bfb",
   "metadata": {},
   "source": [
    "The purpose of this project is to investigate whether transformers can accurately forecast minute-level cryptocurrency prices. We do this by building a decoder-only transformer with convolutional self-attention and training it on past BTC, ETH, ADA, and SOL prices. Our approach is ultimately not successful, and in the final section we discuss some ideas for improving performance. "
   ]
  },
  {
   "cell_type": "code",
   "execution_count": 1,
   "id": "36834597",
   "metadata": {},
   "outputs": [
    {
     "name": "stderr",
     "output_type": "stream",
     "text": [
      "/home/lily/zaa7/miniconda3/envs/pyt/lib/python3.9/site-packages/tqdm/auto.py:22: TqdmWarning: IProgress not found. Please update jupyter and ipywidgets. See https://ipywidgets.readthedocs.io/en/stable/user_install.html\n",
      "  from .autonotebook import tqdm as notebook_tqdm\n"
     ]
    }
   ],
   "source": [
    "import numpy as np\n",
    "import torch\n",
    "import matplotlib.pyplot as plt\n",
    "import torch.nn.functional as F\n",
    "import torch.nn as nn \n",
    "from torch.utils.data import TensorDataset, DataLoader\n",
    "from torch.optim import AdamW\n",
    "import math\n",
    "from tqdm import tqdm\n",
    "import pandas\n",
    "import numpy as np\n",
    "import random\n",
    "\n",
    "# random seeds\n",
    "random.seed(10)\n",
    "np.random.seed(10)\n",
    "torch.manual_seed(10)\n",
    "\n",
    "\n",
    "# this will be server specific\n",
    "device = 'cuda:5'"
   ]
  },
  {
   "cell_type": "code",
   "execution_count": 2,
   "id": "928de721",
   "metadata": {},
   "outputs": [
    {
     "name": "stdout",
     "output_type": "stream",
     "text": [
      "1.11.0\n"
     ]
    }
   ],
   "source": [
    "print(torch.__version__)"
   ]
  },
  {
   "cell_type": "markdown",
   "id": "f20e6261",
   "metadata": {},
   "source": [
    "## The Model"
   ]
  },
  {
   "cell_type": "markdown",
   "id": "04e496b0",
   "metadata": {},
   "source": [
    "### Causal Convolution Layer\n",
    "The only way our transformer architecture differs from a standard GPT-style decoder is the use of *convolutional self-attention*, a method introduced in [Li et al](https://arxiv.org/abs/1907.00235). \n",
    "\n",
    "In language modelling, where our input is a sequence of discrete tokens, we create input embeddings by training a look-up table that maps tokens to embeddings. However, in financial time-series modelling, this approach doesn't work because our data is continuous. \n",
    "\n",
    "The proposal of Li et al. is to use *causal convolutions* to construct input embeddings. A causal convolution is a 1D convolution, except the sliding window extends only backwards in time, which is a necessary constraint for dealing with time-series data. We turn our *(seqlen)* input sequence into a *(seqlen, num_features)* sequence of input embeddings by stacking the result of *num_features* causal convolutions on the input sequence. "
   ]
  },
  {
   "cell_type": "code",
   "execution_count": 3,
   "id": "f335bfc7",
   "metadata": {},
   "outputs": [],
   "source": [
    "class CausalConv1d(torch.nn.Conv1d):\n",
    "    def __init__(self,\n",
    "                 embed_dim,\n",
    "                 kernel_size,\n",
    "                 bias=True):\n",
    "\n",
    "        super(CausalConv1d, self).__init__(\n",
    "            in_channels=1,\n",
    "            out_channels=embed_dim,\n",
    "            kernel_size=kernel_size,\n",
    "            stride=1,\n",
    "            padding=0,\n",
    "            dilation=1,\n",
    "            groups=1,\n",
    "            bias=bias)\n",
    "        \n",
    "        self.__padding = kernel_size - 1\n",
    "    \n",
    "    \"\"\"\n",
    "    - Output has indices [batch, seqlen, features]\n",
    "    \"\"\"\n",
    "    def forward(self, input):\n",
    "        padded = F.pad(input.unsqueeze(1), (self.__padding, 0))\n",
    "        return torch.tanh(super(CausalConv1d, self).forward(padded)).permute(0, 2, 1)"
   ]
  },
  {
   "cell_type": "markdown",
   "id": "6d7b070f",
   "metadata": {},
   "source": [
    "### The Transformer"
   ]
  },
  {
   "cell_type": "markdown",
   "id": "b5e257f3",
   "metadata": {},
   "source": [
    "Apart from the causal convolution layer, our transformer is a standard decoder-only architecture. For an input of shape *(seqlen)*, the decoder outputs a vector of shape *(seqlen)* where the *i*th index corresponds to a prediction for the price at time *i+1*. \n",
    "\n",
    "We use greedy decoding for sequence generation. This is quite risky, as greedy decoding is prone to cascading errors (if you generate an incorrect price, your next prediction is conditioned on an incorrect price, leading to an even worse prediction for the next price). It is possible greedy decoding is a major culprit for our poor performance. "
   ]
  },
  {
   "cell_type": "code",
   "execution_count": 5,
   "id": "f2f54a9f",
   "metadata": {},
   "outputs": [],
   "source": [
    "class TimeFormer(torch.nn.Module): \n",
    "    def __init__(self, \n",
    "                 d_in, \n",
    "                 d_model, \n",
    "                 max_seqlen,\n",
    "                 num_heads, \n",
    "                 dropout=0.1): \n",
    "        super(TimeFormer, self).__init__()\n",
    "        \n",
    "        self.d_in = d_in\n",
    "        self.num_heads = num_heads\n",
    "        \n",
    "        self.conv_embed = CausalConv1d(embed_dim=d_in, kernel_size=9)\n",
    "        self.positional_embed = nn.Embedding(max_seqlen, d_in)\n",
    "        \n",
    "        encoder_layer = nn.TransformerEncoderLayer(d_in, \n",
    "                                                        nhead=num_heads, \n",
    "                                                        dim_feedforward=d_model, \n",
    "                                                        activation='gelu', \n",
    "                                                        batch_first=True\n",
    "                                                       )\n",
    "        norm1 = nn.LayerNorm(d_in)\n",
    "        self.decoder = nn.TransformerEncoder(encoder_layer, num_layers=2, norm=norm1)\n",
    "                \n",
    "        self.dense = nn.Linear(d_in, 1)\n",
    "        \n",
    "        \n",
    "        \n",
    "    \"\"\"\n",
    "    - x has indices [batch, seqlen]\n",
    "    \"\"\"\n",
    "    def forward(self, x): \n",
    "        batch_size, seqlen = x.size()\n",
    "        \n",
    "        mask = torch.tril(torch.ones((seqlen, seqlen), device=x.device), \n",
    "                          diagonal=1)\n",
    "        \n",
    "        conv_embedding = self.conv_embed(x)\n",
    "        pos_embedding = self.positional_embed(torch.arange(seqlen, \n",
    "                                                          device=x.device))\n",
    "        \n",
    "        input_embedding = conv_embedding + pos_embedding \n",
    "        \n",
    "        attn_out = self.decoder(input_embedding, mask)\n",
    "                \n",
    "        outputs = self.dense(attn_out)\n",
    "        \n",
    "        return torch.squeeze(outputs, dim=2)\n",
    "    \n",
    "    \"\"\"\n",
    "    Greedy decoding\n",
    "    \n",
    "    - x has indices [batch, seqlen]\n",
    "    \"\"\"\n",
    "    def batch_generate(self, x, new_time_steps):         \n",
    "        seq = x \n",
    "        \n",
    "        for _ in range(new_time_steps): \n",
    "            outs = self.forward(seq)\n",
    "            \n",
    "            seq = torch.cat((seq, outs[:, -1:]), dim=1)\n",
    "        \n",
    "        return seq \n",
    "            \n",
    "            "
   ]
  },
  {
   "cell_type": "markdown",
   "id": "6da1fe62",
   "metadata": {},
   "source": [
    "## Making sure there are no bugs...\n",
    "Testing a few forward passes on randomly generated data to make sure the input/output shapes are what we think they are. "
   ]
  },
  {
   "cell_type": "code",
   "execution_count": 6,
   "id": "93d7dacc",
   "metadata": {},
   "outputs": [
    {
     "name": "stdout",
     "output_type": "stream",
     "text": [
      "out shape:  torch.Size([3, 10])\n",
      "tensor([[ 0.1984, -1.1482,  0.5940,  0.1100, -0.3594, -0.5084, -0.4710,  0.8415,\n",
      "         -0.4105, -0.2544],\n",
      "        [ 0.3458, -1.0379,  0.4630,  0.2185, -0.8721, -0.4912, -0.7056,  0.9604,\n",
      "         -0.3102, -0.0662],\n",
      "        [ 0.0504, -1.2186,  0.6059,  0.0539, -0.4676, -0.2291, -0.9166,  0.7973,\n",
      "         -0.4858, -0.3148]], grad_fn=<SqueezeBackward1>)\n"
     ]
    }
   ],
   "source": [
    "ins = torch.rand((3, 10))\n",
    "\n",
    "model = TimeFormer(d_in = 16, \n",
    "                   d_model = 32, \n",
    "                   max_seqlen = 256, \n",
    "                   num_heads = 4, \n",
    "                  )\n",
    "\n",
    "out = model.forward(ins)\n",
    "print(\"out shape: \", out.shape)\n",
    "print(out)"
   ]
  },
  {
   "cell_type": "code",
   "execution_count": 7,
   "id": "db769ddf",
   "metadata": {
    "scrolled": true
   },
   "outputs": [
    {
     "data": {
      "text/plain": [
       "tensor([[ 0.6381,  0.6077,  0.1084,  0.2612,  0.0944,  0.5486,  0.5978,  0.7587,\n",
       "          0.7899,  0.1105, -0.9278, -0.0771, -0.1093, -1.0772, -0.2915],\n",
       "        [ 0.1330,  0.5507,  0.6662,  0.8219,  0.7729,  0.0344,  0.5591,  0.6124,\n",
       "          0.9848,  0.1965, -0.9884, -0.2815, -0.3824, -1.2690, -0.6631],\n",
       "        [ 0.0446,  0.7101,  0.0092,  0.8133,  0.9771,  0.3943,  0.7602,  0.5465,\n",
       "          0.2308,  0.8350, -0.9661, -0.3167, -0.1398, -1.2992, -0.7725]],\n",
       "       grad_fn=<CatBackward0>)"
      ]
     },
     "execution_count": 7,
     "metadata": {},
     "output_type": "execute_result"
    }
   ],
   "source": [
    "model = TimeFormer(d_in = 16, \n",
    "                   d_model = 32, \n",
    "                   max_seqlen = 256, \n",
    "                   num_heads = 4, \n",
    "                  )\n",
    "ins = torch.rand((3, 10))\n",
    "\n",
    "model.batch_generate(ins, 5)"
   ]
  },
  {
   "cell_type": "markdown",
   "id": "77c25dd6",
   "metadata": {},
   "source": [
    "## Data Preprocessing"
   ]
  },
  {
   "cell_type": "markdown",
   "id": "d82dff08",
   "metadata": {},
   "source": [
    "# Training on synthetic data\n",
    "To make sure there are no bugs in our code, we'll train our TimeFormer model on a very simple synthetic dataset consisting of two sine waves. "
   ]
  },
  {
   "cell_type": "code",
   "execution_count": 9,
   "id": "cdd9dffe",
   "metadata": {},
   "outputs": [],
   "source": [
    "sinewave = torch.sin(torch.linspace(0, 8*math.pi, 256))\n",
    "sinewave1 = torch.cos(torch.linspace(2, 5, 256))\n",
    "\n",
    "tnsr = torch.stack((sinewave, sinewave1))\n",
    "miniset = TensorDataset(tnsr)"
   ]
  },
  {
   "cell_type": "markdown",
   "id": "5dfa500b",
   "metadata": {},
   "source": [
    "We use the AdamW optimizer and a straightforward MSE loss. "
   ]
  },
  {
   "cell_type": "code",
   "execution_count": 10,
   "id": "639f657c",
   "metadata": {},
   "outputs": [],
   "source": [
    "minimodel = TimeFormer(d_in = 64, \n",
    "                   d_model = 256, \n",
    "                   max_seqlen = 256, \n",
    "                   num_heads = 4, \n",
    "                  ).to(device)\n",
    "\n",
    "#\"3e-4 is the best learning rate for Adam, hands down\" - Andrej Karpathy \n",
    "lr = 3e-4\n",
    "optimizer = AdamW(minimodel.parameters(), lr=lr)\n",
    "\n",
    "loss_fn = nn.MSELoss()"
   ]
  },
  {
   "cell_type": "code",
   "execution_count": 11,
   "id": "da21a2e7",
   "metadata": {},
   "outputs": [
    {
     "name": "stderr",
     "output_type": "stream",
     "text": [
      "100%|███████████████████████████████████████████████| 10000/10000 [01:57<00:00, 85.07it/s]\n"
     ]
    },
    {
     "data": {
      "text/plain": [
       "Text(0, 0.5, 'log loss')"
      ]
     },
     "execution_count": 11,
     "metadata": {},
     "output_type": "execute_result"
    },
    {
     "data": {
      "image/png": "[encoded data removed]",
      "text/plain": [
       "<Figure size 432x288 with 1 Axes>"
      ]
     },
     "metadata": {
      "needs_background": "light"
     },
     "output_type": "display_data"
    }
   ],
   "source": [
    "num_epochs = 10000\n",
    "\n",
    "miniloader = DataLoader(miniset, batch_size=2)\n",
    "\n",
    "log_losses = []\n",
    "for i in tqdm(range(num_epochs)): \n",
    "    for _, batch in enumerate(miniloader):\n",
    "        optimizer.zero_grad()\n",
    "        \n",
    "        batch = batch[0].to(device)\n",
    "        outs = minimodel.forward(batch)\n",
    "        \n",
    "        target = batch[:, 1:]\n",
    "        predictions = outs[:, :-1]\n",
    "        \n",
    "        loss = loss_fn(target, predictions)\n",
    "        \n",
    "        loss.backward()\n",
    "        optimizer.step()\n",
    "        log_losses.append(math.log(loss.item()))\n",
    "        \n",
    "plt.plot(log_losses)\n",
    "plt.title(\"Log loss\")\n",
    "plt.xlabel(\"epoch\")\n",
    "plt.ylabel(\"log loss\")"
   ]
  },
  {
   "cell_type": "code",
   "execution_count": 12,
   "id": "f04ce330",
   "metadata": {},
   "outputs": [
    {
     "data": {
      "image/png": "[encoded data removed]",
      "text/plain": [
       "<Figure size 432x288 with 1 Axes>"
      ]
     },
     "metadata": {
      "needs_background": "light"
     },
     "output_type": "display_data"
    }
   ],
   "source": [
    "test = sinewave[:128].unsqueeze(dim=0).to(device)\n",
    "\n",
    "with torch.no_grad(): \n",
    "    completion = minimodel.batch_generate(test, 128)\n",
    "\n",
    "plt.plot(completion[0].cpu())\n",
    "plt.show()"
   ]
  },
  {
   "cell_type": "markdown",
   "id": "5b3cc845",
   "metadata": {},
   "source": [
    "You almost can't tell when the input sequence ends! So we know our implementation isn't *completely* a buggy mess. "
   ]
  },
  {
   "cell_type": "markdown",
   "id": "f5ab3090",
   "metadata": {},
   "source": [
    "## Cryptoarchive Dataset"
   ]
  },
  {
   "cell_type": "markdown",
   "id": "e18b1d0d",
   "metadata": {},
   "source": [
    "We pull BTC, ETH, ADA, and BTC minute-frequency prices from [cryptoarchive](https://www.cryptoarchive.com.au/dashboard). We split the stream of prices into chunks of 1024 minutes, since that is the longest input our model handles. "
   ]
  },
  {
   "cell_type": "code",
   "execution_count": 13,
   "id": "2755bd68",
   "metadata": {},
   "outputs": [],
   "source": [
    "MAX_SEQLEN = 1024"
   ]
  },
  {
   "cell_type": "code",
   "execution_count": 14,
   "id": "3580cb50",
   "metadata": {},
   "outputs": [],
   "source": [
    "names = [\"open time stamp\", \"open\", \"high\", \"low\", \"close\", \"volume\", \n",
    "        \"taker buy quote asset volume\", \"taker buy base asset volume\", \n",
    "        \"quote asset volume\", \"number of trades\"]\n",
    "\n",
    "sol_dataframe = pandas.read_csv(\"SOLUSDC.csv\", sep=\"|\", names=names)\n",
    "eth_dataframe = pandas.read_csv(\"ETHUSDC.csv\", sep=\"|\", names=names)\n",
    "ada_dataframe = pandas.read_csv(\"ADAUSDC.csv\", sep=\"|\", names=names)\n",
    "btc_dataframe = pandas.read_csv(\"BTCUSDC.csv\", sep=\"|\", names=names)"
   ]
  },
  {
   "cell_type": "code",
   "execution_count": 15,
   "id": "2611b5d8",
   "metadata": {},
   "outputs": [
    {
     "data": {
      "text/html": [
       "<div>\n",
       "<style scoped>\n",
       "    .dataframe tbody tr th:only-of-type {\n",
       "        vertical-align: middle;\n",
       "    }\n",
       "\n",
       "    .dataframe tbody tr th {\n",
       "        vertical-align: top;\n",
       "    }\n",
       "\n",
       "    .dataframe thead th {\n",
       "        text-align: right;\n",
       "    }\n",
       "</style>\n",
       "<table border=\"1\" class=\"dataframe\">\n",
       "  <thead>\n",
       "    <tr style=\"text-align: right;\">\n",
       "      <th></th>\n",
       "      <th>open time stamp</th>\n",
       "      <th>open</th>\n",
       "      <th>high</th>\n",
       "      <th>low</th>\n",
       "      <th>close</th>\n",
       "      <th>volume</th>\n",
       "      <th>taker buy quote asset volume</th>\n",
       "      <th>taker buy base asset volume</th>\n",
       "      <th>quote asset volume</th>\n",
       "      <th>number of trades</th>\n",
       "    </tr>\n",
       "  </thead>\n",
       "  <tbody>\n",
       "    <tr>\n",
       "      <th>0</th>\n",
       "      <td>1632477600</td>\n",
       "      <td>147.12</td>\n",
       "      <td>147.12</td>\n",
       "      <td>135.99</td>\n",
       "      <td>135.99</td>\n",
       "      <td>1.35</td>\n",
       "      <td>185.99</td>\n",
       "      <td>1.35</td>\n",
       "      <td>185.99</td>\n",
       "      <td>4</td>\n",
       "    </tr>\n",
       "    <tr>\n",
       "      <th>1</th>\n",
       "      <td>1632477660</td>\n",
       "      <td>135.70</td>\n",
       "      <td>136.00</td>\n",
       "      <td>128.34</td>\n",
       "      <td>128.34</td>\n",
       "      <td>78.55</td>\n",
       "      <td>10486.50</td>\n",
       "      <td>77.54</td>\n",
       "      <td>10616.12</td>\n",
       "      <td>10</td>\n",
       "    </tr>\n",
       "    <tr>\n",
       "      <th>2</th>\n",
       "      <td>1632477720</td>\n",
       "      <td>136.37</td>\n",
       "      <td>136.37</td>\n",
       "      <td>136.37</td>\n",
       "      <td>136.37</td>\n",
       "      <td>1.16</td>\n",
       "      <td>158.19</td>\n",
       "      <td>1.16</td>\n",
       "      <td>158.19</td>\n",
       "      <td>1</td>\n",
       "    </tr>\n",
       "    <tr>\n",
       "      <th>3</th>\n",
       "      <td>1632477780</td>\n",
       "      <td>134.87</td>\n",
       "      <td>136.35</td>\n",
       "      <td>134.87</td>\n",
       "      <td>136.35</td>\n",
       "      <td>3.30</td>\n",
       "      <td>81.81</td>\n",
       "      <td>0.60</td>\n",
       "      <td>446.78</td>\n",
       "      <td>3</td>\n",
       "    </tr>\n",
       "    <tr>\n",
       "      <th>4</th>\n",
       "      <td>1632477840</td>\n",
       "      <td>136.29</td>\n",
       "      <td>136.61</td>\n",
       "      <td>136.23</td>\n",
       "      <td>136.61</td>\n",
       "      <td>9.79</td>\n",
       "      <td>1200.75</td>\n",
       "      <td>8.79</td>\n",
       "      <td>1336.98</td>\n",
       "      <td>5</td>\n",
       "    </tr>\n",
       "    <tr>\n",
       "      <th>...</th>\n",
       "      <td>...</td>\n",
       "      <td>...</td>\n",
       "      <td>...</td>\n",
       "      <td>...</td>\n",
       "      <td>...</td>\n",
       "      <td>...</td>\n",
       "      <td>...</td>\n",
       "      <td>...</td>\n",
       "      <td>...</td>\n",
       "      <td>...</td>\n",
       "    </tr>\n",
       "    <tr>\n",
       "      <th>251500</th>\n",
       "      <td>1647574800</td>\n",
       "      <td>85.90</td>\n",
       "      <td>85.90</td>\n",
       "      <td>85.90</td>\n",
       "      <td>85.90</td>\n",
       "      <td>0.00</td>\n",
       "      <td>0.00</td>\n",
       "      <td>0.00</td>\n",
       "      <td>0.00</td>\n",
       "      <td>0</td>\n",
       "    </tr>\n",
       "    <tr>\n",
       "      <th>251501</th>\n",
       "      <td>1647574860</td>\n",
       "      <td>85.90</td>\n",
       "      <td>85.90</td>\n",
       "      <td>85.90</td>\n",
       "      <td>85.90</td>\n",
       "      <td>0.00</td>\n",
       "      <td>0.00</td>\n",
       "      <td>0.00</td>\n",
       "      <td>0.00</td>\n",
       "      <td>0</td>\n",
       "    </tr>\n",
       "    <tr>\n",
       "      <th>251502</th>\n",
       "      <td>1647574920</td>\n",
       "      <td>85.88</td>\n",
       "      <td>85.88</td>\n",
       "      <td>85.88</td>\n",
       "      <td>85.88</td>\n",
       "      <td>0.23</td>\n",
       "      <td>0.00</td>\n",
       "      <td>0.00</td>\n",
       "      <td>19.75</td>\n",
       "      <td>1</td>\n",
       "    </tr>\n",
       "    <tr>\n",
       "      <th>251503</th>\n",
       "      <td>1647574980</td>\n",
       "      <td>85.76</td>\n",
       "      <td>85.76</td>\n",
       "      <td>85.71</td>\n",
       "      <td>85.73</td>\n",
       "      <td>3.10</td>\n",
       "      <td>0.00</td>\n",
       "      <td>0.00</td>\n",
       "      <td>265.77</td>\n",
       "      <td>4</td>\n",
       "    </tr>\n",
       "    <tr>\n",
       "      <th>251504</th>\n",
       "      <td>1647575040</td>\n",
       "      <td>85.70</td>\n",
       "      <td>85.70</td>\n",
       "      <td>85.70</td>\n",
       "      <td>85.70</td>\n",
       "      <td>0.23</td>\n",
       "      <td>0.00</td>\n",
       "      <td>0.00</td>\n",
       "      <td>19.71</td>\n",
       "      <td>1</td>\n",
       "    </tr>\n",
       "  </tbody>\n",
       "</table>\n",
       "<p>251505 rows × 10 columns</p>\n",
       "</div>"
      ],
      "text/plain": [
       "        open time stamp    open    high     low   close  volume  \\\n",
       "0            1632477600  147.12  147.12  135.99  135.99    1.35   \n",
       "1            1632477660  135.70  136.00  128.34  128.34   78.55   \n",
       "2            1632477720  136.37  136.37  136.37  136.37    1.16   \n",
       "3            1632477780  134.87  136.35  134.87  136.35    3.30   \n",
       "4            1632477840  136.29  136.61  136.23  136.61    9.79   \n",
       "...                 ...     ...     ...     ...     ...     ...   \n",
       "251500       1647574800   85.90   85.90   85.90   85.90    0.00   \n",
       "251501       1647574860   85.90   85.90   85.90   85.90    0.00   \n",
       "251502       1647574920   85.88   85.88   85.88   85.88    0.23   \n",
       "251503       1647574980   85.76   85.76   85.71   85.73    3.10   \n",
       "251504       1647575040   85.70   85.70   85.70   85.70    0.23   \n",
       "\n",
       "        taker buy quote asset volume  taker buy base asset volume  \\\n",
       "0                             185.99                         1.35   \n",
       "1                           10486.50                        77.54   \n",
       "2                             158.19                         1.16   \n",
       "3                              81.81                         0.60   \n",
       "4                            1200.75                         8.79   \n",
       "...                              ...                          ...   \n",
       "251500                          0.00                         0.00   \n",
       "251501                          0.00                         0.00   \n",
       "251502                          0.00                         0.00   \n",
       "251503                          0.00                         0.00   \n",
       "251504                          0.00                         0.00   \n",
       "\n",
       "        quote asset volume  number of trades  \n",
       "0                   185.99                 4  \n",
       "1                 10616.12                10  \n",
       "2                   158.19                 1  \n",
       "3                   446.78                 3  \n",
       "4                  1336.98                 5  \n",
       "...                    ...               ...  \n",
       "251500                0.00                 0  \n",
       "251501                0.00                 0  \n",
       "251502               19.75                 1  \n",
       "251503              265.77                 4  \n",
       "251504               19.71                 1  \n",
       "\n",
       "[251505 rows x 10 columns]"
      ]
     },
     "execution_count": 15,
     "metadata": {},
     "output_type": "execute_result"
    }
   ],
   "source": [
    "sol_dataframe"
   ]
  },
  {
   "cell_type": "code",
   "execution_count": 16,
   "id": "af1948e2",
   "metadata": {},
   "outputs": [],
   "source": [
    "def df_to_numpy(df, max_seqlen): \n",
    "    prices_series = df.loc[:, \"open\"]\n",
    "    prices_vec = prices_series.to_numpy()\n",
    "    prices_vec = prices_vec[:-(prices_vec.size%max_seqlen)]\n",
    "    norm_factor = np.max(prices_vec)\n",
    "    prices_vec = prices_vec/norm_factor\n",
    "    prices_mat = prices_vec.reshape((-1, max_seqlen))\n",
    "    return torch.tensor(prices_mat)"
   ]
  },
  {
   "cell_type": "code",
   "execution_count": 17,
   "id": "6826f9d6",
   "metadata": {},
   "outputs": [
    {
     "name": "stdout",
     "output_type": "stream",
     "text": [
      "(5103, 1024)\n"
     ]
    }
   ],
   "source": [
    "\n",
    "sol_mat = df_to_numpy(sol_dataframe, MAX_SEQLEN)\n",
    "eth_mat = df_to_numpy(eth_dataframe, MAX_SEQLEN)\n",
    "ada_mat = df_to_numpy(ada_dataframe, MAX_SEQLEN)\n",
    "btc_mat = df_to_numpy(btc_dataframe, MAX_SEQLEN)\n",
    "\n",
    "\n",
    "all_mat = np.concatenate((sol_mat, eth_mat, ada_mat, btc_mat))\n",
    "\n",
    "np.random.shuffle(all_mat)\n",
    "\n",
    "print(all_mat.shape)"
   ]
  },
  {
   "cell_type": "code",
   "execution_count": 18,
   "id": "0fd4ea50",
   "metadata": {},
   "outputs": [],
   "source": [
    "# hold out 500 examples for the test set\n",
    "test_tensor = torch.tensor(all_mat[-500:], dtype=torch.float)\n",
    "\n",
    "trainset = TensorDataset(torch.tensor(all_mat[:-500], dtype=torch.float))\n",
    "testset = TensorDataset(test_tensor)"
   ]
  },
  {
   "cell_type": "markdown",
   "id": "378a431a",
   "metadata": {},
   "source": [
    "# Training on Crypto Data"
   ]
  },
  {
   "cell_type": "markdown",
   "id": "2579c72e",
   "metadata": {},
   "source": [
    "Our training loop is completely standard, no innovation here. We use an MSE loss and train more or less to convergence. "
   ]
  },
  {
   "cell_type": "code",
   "execution_count": 19,
   "id": "c04e7bc5",
   "metadata": {},
   "outputs": [],
   "source": [
    "model = TimeFormer(d_in = 1024, \n",
    "                   d_model = 4096, \n",
    "                   max_seqlen = MAX_SEQLEN, \n",
    "                   num_heads = 8, \n",
    "                  ).to(device)\n",
    "\n",
    "#\"3e-4 is the best learning rate for Adam, hands down\" - Andrej Karpathy \n",
    "lr = 5e-5\n",
    "optimizer = AdamW(model.parameters(), lr=lr)\n",
    "\n",
    "loss_fn = nn.MSELoss()"
   ]
  },
  {
   "cell_type": "code",
   "execution_count": 20,
   "id": "0c627589",
   "metadata": {
    "scrolled": true
   },
   "outputs": [
    {
     "name": "stderr",
     "output_type": "stream",
     "text": [
      "100%|███████████████████████████████████████████████████| 144/144 [00:37<00:00,  3.79it/s]\n"
     ]
    },
    {
     "name": "stdout",
     "output_type": "stream",
     "text": [
      "epoch 0: loss 0.032079923897981644\n"
     ]
    },
    {
     "name": "stderr",
     "output_type": "stream",
     "text": [
      "100%|███████████████████████████████████████████████████| 144/144 [00:38<00:00,  3.77it/s]\n"
     ]
    },
    {
     "name": "stdout",
     "output_type": "stream",
     "text": [
      "epoch 1: loss 0.004138257820159197\n"
     ]
    },
    {
     "name": "stderr",
     "output_type": "stream",
     "text": [
      "100%|███████████████████████████████████████████████████| 144/144 [00:38<00:00,  3.77it/s]\n"
     ]
    },
    {
     "name": "stdout",
     "output_type": "stream",
     "text": [
      "epoch 2: loss 0.0033761372324079275\n"
     ]
    },
    {
     "name": "stderr",
     "output_type": "stream",
     "text": [
      "100%|███████████████████████████████████████████████████| 144/144 [00:38<00:00,  3.77it/s]\n"
     ]
    },
    {
     "name": "stdout",
     "output_type": "stream",
     "text": [
      "epoch 3: loss 0.0026942617259919643\n"
     ]
    },
    {
     "name": "stderr",
     "output_type": "stream",
     "text": [
      "100%|███████████████████████████████████████████████████| 144/144 [00:38<00:00,  3.77it/s]\n"
     ]
    },
    {
     "name": "stdout",
     "output_type": "stream",
     "text": [
      "epoch 4: loss 0.0020693165715783834\n"
     ]
    },
    {
     "name": "stderr",
     "output_type": "stream",
     "text": [
      "100%|███████████████████████████████████████████████████| 144/144 [00:38<00:00,  3.77it/s]\n"
     ]
    },
    {
     "name": "stdout",
     "output_type": "stream",
     "text": [
      "epoch 5: loss 0.0014920505927875638\n"
     ]
    },
    {
     "name": "stderr",
     "output_type": "stream",
     "text": [
      "100%|███████████████████████████████████████████████████| 144/144 [00:38<00:00,  3.77it/s]\n"
     ]
    },
    {
     "name": "stdout",
     "output_type": "stream",
     "text": [
      "epoch 6: loss 0.00104802125133574\n"
     ]
    },
    {
     "name": "stderr",
     "output_type": "stream",
     "text": [
      "100%|███████████████████████████████████████████████████| 144/144 [00:38<00:00,  3.77it/s]\n"
     ]
    },
    {
     "name": "stdout",
     "output_type": "stream",
     "text": [
      "epoch 7: loss 0.000782915682066232\n"
     ]
    },
    {
     "name": "stderr",
     "output_type": "stream",
     "text": [
      "100%|███████████████████████████████████████████████████| 144/144 [00:38<00:00,  3.77it/s]\n"
     ]
    },
    {
     "name": "stdout",
     "output_type": "stream",
     "text": [
      "epoch 8: loss 0.0006194872548803687\n"
     ]
    },
    {
     "name": "stderr",
     "output_type": "stream",
     "text": [
      "100%|███████████████████████████████████████████████████| 144/144 [00:38<00:00,  3.77it/s]\n"
     ]
    },
    {
     "name": "stdout",
     "output_type": "stream",
     "text": [
      "epoch 9: loss 0.0005179767613299191\n"
     ]
    },
    {
     "name": "stderr",
     "output_type": "stream",
     "text": [
      "100%|███████████████████████████████████████████████████| 144/144 [00:38<00:00,  3.77it/s]\n"
     ]
    },
    {
     "name": "stdout",
     "output_type": "stream",
     "text": [
      "epoch 10: loss 0.00045061009586788714\n"
     ]
    },
    {
     "name": "stderr",
     "output_type": "stream",
     "text": [
      "100%|███████████████████████████████████████████████████| 144/144 [00:38<00:00,  3.77it/s]\n"
     ]
    },
    {
     "name": "stdout",
     "output_type": "stream",
     "text": [
      "epoch 11: loss 0.0003980040783062577\n"
     ]
    },
    {
     "name": "stderr",
     "output_type": "stream",
     "text": [
      "100%|███████████████████████████████████████████████████| 144/144 [00:38<00:00,  3.77it/s]\n"
     ]
    },
    {
     "name": "stdout",
     "output_type": "stream",
     "text": [
      "epoch 12: loss 0.0003666318953037262\n"
     ]
    },
    {
     "name": "stderr",
     "output_type": "stream",
     "text": [
      "100%|███████████████████████████████████████████████████| 144/144 [00:38<00:00,  3.77it/s]\n"
     ]
    },
    {
     "name": "stdout",
     "output_type": "stream",
     "text": [
      "epoch 13: loss 0.0003360552655067295\n"
     ]
    },
    {
     "name": "stderr",
     "output_type": "stream",
     "text": [
      "100%|███████████████████████████████████████████████████| 144/144 [00:38<00:00,  3.77it/s]\n"
     ]
    },
    {
     "name": "stdout",
     "output_type": "stream",
     "text": [
      "epoch 14: loss 0.0003141909255646169\n"
     ]
    },
    {
     "name": "stderr",
     "output_type": "stream",
     "text": [
      "100%|███████████████████████████████████████████████████| 144/144 [00:38<00:00,  3.77it/s]\n"
     ]
    },
    {
     "name": "stdout",
     "output_type": "stream",
     "text": [
      "epoch 15: loss 0.0002876647049561143\n"
     ]
    },
    {
     "name": "stderr",
     "output_type": "stream",
     "text": [
      "100%|███████████████████████████████████████████████████| 144/144 [00:38<00:00,  3.77it/s]\n"
     ]
    },
    {
     "name": "stdout",
     "output_type": "stream",
     "text": [
      "epoch 16: loss 0.0002686351945158094\n"
     ]
    },
    {
     "name": "stderr",
     "output_type": "stream",
     "text": [
      "100%|███████████████████████████████████████████████████| 144/144 [00:38<00:00,  3.77it/s]\n"
     ]
    },
    {
     "name": "stdout",
     "output_type": "stream",
     "text": [
      "epoch 17: loss 0.0002550377685111016\n"
     ]
    },
    {
     "name": "stderr",
     "output_type": "stream",
     "text": [
      "100%|███████████████████████████████████████████████████| 144/144 [00:38<00:00,  3.77it/s]\n"
     ]
    },
    {
     "name": "stdout",
     "output_type": "stream",
     "text": [
      "epoch 18: loss 0.00024624858633615077\n"
     ]
    },
    {
     "name": "stderr",
     "output_type": "stream",
     "text": [
      "100%|███████████████████████████████████████████████████| 144/144 [00:38<00:00,  3.77it/s]\n"
     ]
    },
    {
     "name": "stdout",
     "output_type": "stream",
     "text": [
      "epoch 19: loss 0.0002321596839465201\n"
     ]
    },
    {
     "name": "stderr",
     "output_type": "stream",
     "text": [
      "100%|███████████████████████████████████████████████████| 144/144 [00:38<00:00,  3.77it/s]\n"
     ]
    },
    {
     "name": "stdout",
     "output_type": "stream",
     "text": [
      "epoch 20: loss 0.0002302915818290785\n"
     ]
    },
    {
     "name": "stderr",
     "output_type": "stream",
     "text": [
      "100%|███████████████████████████████████████████████████| 144/144 [00:38<00:00,  3.77it/s]\n"
     ]
    },
    {
     "name": "stdout",
     "output_type": "stream",
     "text": [
      "epoch 21: loss 0.00022521454957313836\n"
     ]
    },
    {
     "name": "stderr",
     "output_type": "stream",
     "text": [
      "100%|███████████████████████████████████████████████████| 144/144 [00:38<00:00,  3.77it/s]\n"
     ]
    },
    {
     "name": "stdout",
     "output_type": "stream",
     "text": [
      "epoch 22: loss 0.00021796785586047918\n"
     ]
    },
    {
     "name": "stderr",
     "output_type": "stream",
     "text": [
      "100%|███████████████████████████████████████████████████| 144/144 [00:38<00:00,  3.77it/s]\n"
     ]
    },
    {
     "name": "stdout",
     "output_type": "stream",
     "text": [
      "epoch 23: loss 0.00021320626547094434\n"
     ]
    },
    {
     "name": "stderr",
     "output_type": "stream",
     "text": [
      "100%|███████████████████████████████████████████████████| 144/144 [00:38<00:00,  3.77it/s]\n"
     ]
    },
    {
     "name": "stdout",
     "output_type": "stream",
     "text": [
      "epoch 24: loss 0.00020219883299432695\n"
     ]
    },
    {
     "name": "stderr",
     "output_type": "stream",
     "text": [
      "100%|███████████████████████████████████████████████████| 144/144 [00:38<00:00,  3.77it/s]\n"
     ]
    },
    {
     "name": "stdout",
     "output_type": "stream",
     "text": [
      "epoch 25: loss 0.00019849310046993196\n"
     ]
    },
    {
     "name": "stderr",
     "output_type": "stream",
     "text": [
      "100%|███████████████████████████████████████████████████| 144/144 [00:38<00:00,  3.77it/s]\n"
     ]
    },
    {
     "name": "stdout",
     "output_type": "stream",
     "text": [
      "epoch 26: loss 0.0002006009017350152\n"
     ]
    },
    {
     "name": "stderr",
     "output_type": "stream",
     "text": [
      "100%|███████████████████████████████████████████████████| 144/144 [00:38<00:00,  3.77it/s]\n"
     ]
    },
    {
     "name": "stdout",
     "output_type": "stream",
     "text": [
      "epoch 27: loss 0.00019632578187156469\n"
     ]
    },
    {
     "name": "stderr",
     "output_type": "stream",
     "text": [
      "100%|███████████████████████████████████████████████████| 144/144 [00:38<00:00,  3.77it/s]\n"
     ]
    },
    {
     "name": "stdout",
     "output_type": "stream",
     "text": [
      "epoch 28: loss 0.0001815890718717128\n"
     ]
    },
    {
     "name": "stderr",
     "output_type": "stream",
     "text": [
      "100%|███████████████████████████████████████████████████| 144/144 [00:38<00:00,  3.77it/s]\n"
     ]
    },
    {
     "name": "stdout",
     "output_type": "stream",
     "text": [
      "epoch 29: loss 0.0001905047829495743\n"
     ]
    },
    {
     "name": "stderr",
     "output_type": "stream",
     "text": [
      "100%|███████████████████████████████████████████████████| 144/144 [00:38<00:00,  3.77it/s]\n"
     ]
    },
    {
     "name": "stdout",
     "output_type": "stream",
     "text": [
      "epoch 30: loss 0.00017374835442751646\n"
     ]
    },
    {
     "name": "stderr",
     "output_type": "stream",
     "text": [
      "100%|███████████████████████████████████████████████████| 144/144 [00:38<00:00,  3.77it/s]\n"
     ]
    },
    {
     "name": "stdout",
     "output_type": "stream",
     "text": [
      "epoch 31: loss 0.00017884594853967428\n"
     ]
    },
    {
     "name": "stderr",
     "output_type": "stream",
     "text": [
      "100%|███████████████████████████████████████████████████| 144/144 [00:38<00:00,  3.77it/s]\n"
     ]
    },
    {
     "name": "stdout",
     "output_type": "stream",
     "text": [
      "epoch 32: loss 0.0001798456214601174\n"
     ]
    },
    {
     "name": "stderr",
     "output_type": "stream",
     "text": [
      "100%|███████████████████████████████████████████████████| 144/144 [00:38<00:00,  3.77it/s]\n"
     ]
    },
    {
     "name": "stdout",
     "output_type": "stream",
     "text": [
      "epoch 33: loss 0.00018905125034507364\n"
     ]
    },
    {
     "name": "stderr",
     "output_type": "stream",
     "text": [
      "100%|███████████████████████████████████████████████████| 144/144 [00:38<00:00,  3.77it/s]\n"
     ]
    },
    {
     "name": "stdout",
     "output_type": "stream",
     "text": [
      "epoch 34: loss 0.0001611597981536761\n"
     ]
    },
    {
     "name": "stderr",
     "output_type": "stream",
     "text": [
      "100%|███████████████████████████████████████████████████| 144/144 [00:38<00:00,  3.77it/s]\n"
     ]
    },
    {
     "name": "stdout",
     "output_type": "stream",
     "text": [
      "epoch 35: loss 0.00016518047777935863\n"
     ]
    },
    {
     "name": "stderr",
     "output_type": "stream",
     "text": [
      "100%|███████████████████████████████████████████████████| 144/144 [00:38<00:00,  3.77it/s]\n"
     ]
    },
    {
     "name": "stdout",
     "output_type": "stream",
     "text": [
      "epoch 36: loss 0.00016389178927056491\n"
     ]
    },
    {
     "name": "stderr",
     "output_type": "stream",
     "text": [
      "100%|███████████████████████████████████████████████████| 144/144 [00:38<00:00,  3.77it/s]\n"
     ]
    },
    {
     "name": "stdout",
     "output_type": "stream",
     "text": [
      "epoch 37: loss 0.0001686664909357205\n"
     ]
    },
    {
     "name": "stderr",
     "output_type": "stream",
     "text": [
      "100%|███████████████████████████████████████████████████| 144/144 [00:38<00:00,  3.77it/s]\n"
     ]
    },
    {
     "name": "stdout",
     "output_type": "stream",
     "text": [
      "epoch 38: loss 0.0001589321909705177\n"
     ]
    },
    {
     "name": "stderr",
     "output_type": "stream",
     "text": [
      "100%|███████████████████████████████████████████████████| 144/144 [00:38<00:00,  3.77it/s]\n"
     ]
    },
    {
     "name": "stdout",
     "output_type": "stream",
     "text": [
      "epoch 39: loss 0.0002114276576321572\n"
     ]
    },
    {
     "name": "stderr",
     "output_type": "stream",
     "text": [
      "100%|███████████████████████████████████████████████████| 144/144 [00:38<00:00,  3.77it/s]\n"
     ]
    },
    {
     "name": "stdout",
     "output_type": "stream",
     "text": [
      "epoch 40: loss 0.00016800739103928208\n"
     ]
    },
    {
     "name": "stderr",
     "output_type": "stream",
     "text": [
      "100%|███████████████████████████████████████████████████| 144/144 [00:38<00:00,  3.77it/s]\n"
     ]
    },
    {
     "name": "stdout",
     "output_type": "stream",
     "text": [
      "epoch 41: loss 0.00013174251944292337\n"
     ]
    },
    {
     "name": "stderr",
     "output_type": "stream",
     "text": [
      "100%|███████████████████████████████████████████████████| 144/144 [00:38<00:00,  3.77it/s]\n"
     ]
    },
    {
     "name": "stdout",
     "output_type": "stream",
     "text": [
      "epoch 42: loss 0.00013391680840868503\n"
     ]
    },
    {
     "name": "stderr",
     "output_type": "stream",
     "text": [
      "100%|███████████████████████████████████████████████████| 144/144 [00:38<00:00,  3.77it/s]\n"
     ]
    },
    {
     "name": "stdout",
     "output_type": "stream",
     "text": [
      "epoch 43: loss 0.00014802977966610342\n"
     ]
    },
    {
     "name": "stderr",
     "output_type": "stream",
     "text": [
      "100%|███████████████████████████████████████████████████| 144/144 [00:38<00:00,  3.77it/s]\n"
     ]
    },
    {
     "name": "stdout",
     "output_type": "stream",
     "text": [
      "epoch 44: loss 0.00016059682820923626\n"
     ]
    },
    {
     "name": "stderr",
     "output_type": "stream",
     "text": [
      "100%|███████████████████████████████████████████████████| 144/144 [00:38<00:00,  3.77it/s]\n"
     ]
    },
    {
     "name": "stdout",
     "output_type": "stream",
     "text": [
      "epoch 45: loss 0.0001520160585641861\n"
     ]
    },
    {
     "name": "stderr",
     "output_type": "stream",
     "text": [
      "100%|███████████████████████████████████████████████████| 144/144 [00:38<00:00,  3.77it/s]\n"
     ]
    },
    {
     "name": "stdout",
     "output_type": "stream",
     "text": [
      "epoch 46: loss 0.00013447819219436496\n"
     ]
    },
    {
     "name": "stderr",
     "output_type": "stream",
     "text": [
      "100%|███████████████████████████████████████████████████| 144/144 [00:38<00:00,  3.77it/s]\n"
     ]
    },
    {
     "name": "stdout",
     "output_type": "stream",
     "text": [
      "epoch 47: loss 0.00016448658425360918\n"
     ]
    },
    {
     "name": "stderr",
     "output_type": "stream",
     "text": [
      "100%|███████████████████████████████████████████████████| 144/144 [00:38<00:00,  3.77it/s]\n"
     ]
    },
    {
     "name": "stdout",
     "output_type": "stream",
     "text": [
      "epoch 48: loss 0.00018115638522431254\n"
     ]
    },
    {
     "name": "stderr",
     "output_type": "stream",
     "text": [
      "100%|███████████████████████████████████████████████████| 144/144 [00:38<00:00,  3.77it/s]\n"
     ]
    },
    {
     "name": "stdout",
     "output_type": "stream",
     "text": [
      "epoch 49: loss 0.00013481864880304784\n"
     ]
    },
    {
     "data": {
      "image/png": "[encoded data removed]",
      "text/plain": [
       "<Figure size 432x288 with 1 Axes>"
      ]
     },
     "metadata": {
      "needs_background": "light"
     },
     "output_type": "display_data"
    }
   ],
   "source": [
    "num_epochs = 50\n",
    "\n",
    "train_loader = DataLoader(trainset, batch_size=32)\n",
    "\n",
    "losses = []\n",
    "for i in range(num_epochs): \n",
    "    cum_loss = 0 \n",
    "    num_batches = 0 \n",
    "    for _, batch in enumerate(tqdm(train_loader)):\n",
    "        optimizer.zero_grad()\n",
    "        \n",
    "        batch = batch[0].to(device)\n",
    "        outs = model.forward(batch)\n",
    "        \n",
    "        target = batch[:, 1:]\n",
    "        predictions = outs[:, :-1]\n",
    "        \n",
    "        loss = loss_fn(target, predictions)\n",
    "        \n",
    "        loss.backward()\n",
    "        optimizer.step()\n",
    "        \n",
    "        cum_loss += loss\n",
    "        num_batches += 1 \n",
    "    \n",
    "    total_loss = (cum_loss / num_batches).cpu().item()\n",
    "    losses.append(total_loss)\n",
    "    \n",
    "    print(f\"epoch {i}: loss {total_loss}\")\n",
    "        \n",
    "plt.plot(losses)\n",
    "plt.title(\"training loss\")\n",
    "plt.xlabel(\"epoch\")\n",
    "plt.ylabel(\"loss\")\n",
    "plt.show()\n",
    "\n",
    "# save model state_dict\n",
    "torch.save(model.state_dict(), \"saved_weights.pth\")"
   ]
  },
  {
   "cell_type": "markdown",
   "id": "89b8d7fa",
   "metadata": {},
   "source": [
    "# Evaluation"
   ]
  },
  {
   "cell_type": "code",
   "execution_count": 21,
   "id": "2ef143f7",
   "metadata": {},
   "outputs": [
    {
     "data": {
      "text/plain": [
       "<All keys matched successfully>"
      ]
     },
     "execution_count": 21,
     "metadata": {},
     "output_type": "execute_result"
    }
   ],
   "source": [
    "# Loads saved weights\n",
    "device = 'cuda:7'\n",
    "\n",
    "model = TimeFormer(d_in = 1024, \n",
    "                   d_model = 4096, \n",
    "                   max_seqlen = MAX_SEQLEN, \n",
    "                   num_heads = 8, \n",
    "                  ).to(device)\n",
    "\n",
    "model.load_state_dict(torch.load(\"saved_weights.pth\"))"
   ]
  },
  {
   "cell_type": "markdown",
   "id": "b8f34d86",
   "metadata": {},
   "source": [
    "We will evaluate the our model on the following task: given the past 512 minutes of prices, predict the next 512 minutes of prices. Our accuracy metric is MSE.\n",
    "\n",
    "## Baseline accuracy\n",
    "I never check the weather report. Instead, I wear what would've been appropriate attire for the previous day's weather. This works ok maybe 95% of the time. To establish a reasonable baseline our transformer should beat we follow a similar logic. "
   ]
  },
  {
   "cell_type": "code",
   "execution_count": 22,
   "id": "41d1127e",
   "metadata": {},
   "outputs": [
    {
     "name": "stdout",
     "output_type": "stream",
     "text": [
      "The MSE to beat is 1.8912913901658612e-07\n"
     ]
    }
   ],
   "source": [
    "# Calculate accuracy of \"just predict the last price\" model. \n",
    "\n",
    "mse = nn.MSELoss()\n",
    "accuracy = mse(test_tensor[:, -2], test_tensor[:, -1])\n",
    "\n",
    "print(f\"The MSE to beat is {accuracy}\")"
   ]
  },
  {
   "cell_type": "code",
   "execution_count": 25,
   "id": "14ee5ef1",
   "metadata": {},
   "outputs": [],
   "source": [
    "minutes_to_predict = 512"
   ]
  },
  {
   "cell_type": "code",
   "execution_count": 36,
   "id": "a10f7113",
   "metadata": {},
   "outputs": [
    {
     "name": "stdout",
     "output_type": "stream",
     "text": [
      "The MSE to beat is 5.840558515046723e-05\n"
     ]
    }
   ],
   "source": [
    "# Calculate accuracy of \"just predict the last price\" model. \n",
    "\n",
    "mse = nn.MSELoss()\n",
    "predictions = test_tensor[:, -(minutes_to_predict+1)].unsqueeze(dim=1).repeat(1, minutes_to_predict)\n",
    "targets = test_tensor[:, -minutes_to_predict:]\n",
    "accuracy = mse(predictions, targets)\n",
    "\n",
    "print(f\"The MSE to beat is {accuracy}\")"
   ]
  },
  {
   "cell_type": "markdown",
   "id": "542e2657",
   "metadata": {},
   "source": [
    "## Model Accuracy"
   ]
  },
  {
   "cell_type": "code",
   "execution_count": 37,
   "id": "666e73f1",
   "metadata": {},
   "outputs": [
    {
     "name": "stderr",
     "output_type": "stream",
     "text": [
      "100%|█████████████████████████████████████████████████████| 10/10 [09:08<00:00, 54.85s/it]"
     ]
    },
    {
     "name": "stdout",
     "output_type": "stream",
     "text": [
      "the model accuracy is 0.0002232983402791433\n"
     ]
    },
    {
     "name": "stderr",
     "output_type": "stream",
     "text": [
      "\n"
     ]
    }
   ],
   "source": [
    "test_loader = DataLoader(testset, batch_size=50)\n",
    "\n",
    "model.eval()\n",
    "\n",
    "MSEs = []\n",
    "for _, batch in enumerate(tqdm(test_loader)): \n",
    "    batch = batch[0].to(device)\n",
    "    \n",
    "    inputs = batch[:, -minutes_to_predict:]\n",
    "    with torch.no_grad():\n",
    "        outs = model.batch_generate(inputs, minutes_to_predict)\n",
    "    \n",
    "    error = mse(batch[:, -minutes_to_predict], outs[:, -minutes_to_predict])\n",
    "    MSEs.append(error.cpu().item())\n",
    "\n",
    "accuracy = sum(MSEs)/len(MSEs)\n",
    "\n",
    "\n",
    "print(f\"the model accuracy is {accuracy}\")"
   ]
  },
  {
   "cell_type": "markdown",
   "id": "2cde8d3a",
   "metadata": {},
   "source": [
    "# Post-mortem"
   ]
  },
  {
   "cell_type": "markdown",
   "id": "b2cdb3df",
   "metadata": {},
   "source": [
    "In the end, we see that our transformer-based approach does not beat simply predicting the most recent known price. Below I discuss a number of reasons for why this may be the case. \n",
    "- It may be that our data doesn't contain any signal, in the sense that there is no better model of our data than a random walk. If this is the case, one solution is to include as the input to our model covariate time series such as the prices of other assets or market metadata. It could be that past prices alone carry no signal about future prices, but past prices combined with covariates do. \n",
    "- It may be that while our transformer model succeeds at building rich representations, regressing a point estimate for future price and using greedy decoding to predict sequences is too crude of a decoding approach. We mentioned earlier the problem of cascading errors. We might improve our model by outputting a probabilitiy distribution over prices instead of a point estimate and using beam search to generate sequences. This would allow us to draw diverse samples from the transformer model as we can with text generation models. \n",
    "- Transformers have weak inductive biases and are notoriously data hungry. It may be that we simply didn't train our model on enough data. In fact, the fact that our transformer model performs *worse* than our baseline. suggests this is the most likely explanation. If there were genuinely no signal in our data but we had enough of it, our model would learn to always predict the empirical mean---greedy decoding and deterministic outputs wouldn't prevent this behavior.   "
   ]
  }
 ],
 "metadata": {
  "kernelspec": {
   "display_name": "Python 3",
   "language": "python",
   "name": "python3"
  },
  "language_info": {
   "codemirror_mode": {
    "name": "ipython",
    "version": 3
   },
   "file_extension": ".py",
   "mimetype": "text/x-python",
   "name": "python",
   "nbconvert_exporter": "python",
   "pygments_lexer": "ipython3",
   "version": "3.9.7"
  }
 },
 "nbformat": 4,
 "nbformat_minor": 5
}
